{
 "cells": [
  {
   "cell_type": "code",
   "execution_count": 1,
   "metadata": {},
   "outputs": [],
   "source": [
    "import pandas as pd\n",
    "import matplotlib.pyplot as plt\n",
    "import seaborn as sns"
   ]
  },
  {
   "cell_type": "code",
   "execution_count": 2,
   "metadata": {},
   "outputs": [
    {
     "name": "stdout",
     "output_type": "stream",
     "text": [
      "True\n",
      "1\n",
      "1\n",
      "2\n",
      "1\n"
     ]
    }
   ],
   "source": [
    "from pyraphtory import Graph\n",
    "from pyraphtory import algorithms\n",
    "\n",
    "g = Graph(1) # Number of shards\n",
    "\n",
    "g.add_vertex(1, 11, {\"type\": \"wallet\", \"balance\": 99.5})\n",
    "g.add_vertex(2, 12, {\"type\": \"wallet\", \"balance\": 10.0})\n",
    "g.add_vertex(3, 13, {\"type\": \"wallet\", \"balance\": 76})\n",
    "\n",
    "g.add_edge(4, 11, 12, {\"prop1\": 1, \"prop2\": 9.8, \"prop3\": \"test\"})\n",
    "g.add_edge(5, 12, 13, {\"prop1\": 1321, \"prop2\": 9.8, \"prop3\": \"test\"})\n",
    "g.add_edge(6, 13, 11, {\"prop1\": 645, \"prop2\": 9.8, \"prop3\": \"test\"})\n",
    "\n",
    "view  = g.window(0,10)\n",
    "\n",
    "print(g.has_vertex(13))\n",
    "print(view.vertex(13).in_degree())\n",
    "print(view.vertex(13).out_degree())\n",
    "print(view.vertex(13).degree())\n",
    "\n",
    "\n",
    "\n",
    "triangles  = algorithms.triangle_count(view,13) # How many triangles is 13 involved in\n",
    "print(triangles)\n",
    "\n"
   ]
  },
  {
   "cell_type": "code",
   "execution_count": 3,
   "metadata": {},
   "outputs": [
    {
     "data": {
      "text/plain": [
       "<Axes: xlabel='degree', ylabel='Count'>"
      ]
     },
     "execution_count": 3,
     "metadata": {},
     "output_type": "execute_result"
    },
    {
     "data": {
      "image/png": "[encoded data removed]",
      "text/plain": [
       "<Figure size 640x480 with 1 Axes>"
      ]
     },
     "metadata": {},
     "output_type": "display_data"
    }
   ],
   "source": [
    "from pyraphtory import graph_gen\n",
    "\n",
    "g = Graph(4)\n",
    "graph_gen.ba_preferential_attachment(g,vertices_to_add=100000,edges_per_step=10)\n",
    "view = g.window(0,1000)\n",
    "\n",
    "ids = []\n",
    "degrees = []\n",
    "for v in view.vertices():\n",
    "    ids.append(v.g_id)\n",
    "    degrees.append(v.degree())\n",
    "\n",
    "df = pd.DataFrame.from_dict({\"id\":ids,\"degree\": degrees})\n",
    "#df = df.sort_values(by=\"degree\",ascending=False)\n",
    "\n",
    "sns.set()\n",
    "sns.histplot(df.degree)\n"
   ]
  },
  {
   "cell_type": "code",
   "execution_count": null,
   "metadata": {},
   "outputs": [],
   "source": []
  }
 ],
 "metadata": {
  "kernelspec": {
   "display_name": "docbrown",
   "language": "python",
   "name": "python3"
  },
  "language_info": {
   "codemirror_mode": {
    "name": "ipython",
    "version": 3
   },
   "file_extension": ".py",
   "mimetype": "text/x-python",
   "name": "python",
   "nbconvert_exporter": "python",
   "pygments_lexer": "ipython3",
   "version": "3.10.9"
  },
  "orig_nbformat": 4
 },
 "nbformat": 4,
 "nbformat_minor": 2
}