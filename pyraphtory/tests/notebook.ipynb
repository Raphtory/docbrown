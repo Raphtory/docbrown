{
 "cells": [
  {
   "cell_type": "code",
   "execution_count": null,
   "metadata": {},
   "outputs": [],
   "source": [
    "##degree\n",
    "##len\n",
    "##trianglecount\n",
    "\n",
    "##"
   ]
  }
 ],
 "metadata": {
  "kernelspec": {
   "display_name": "Python 3",
   "language": "python",
   "name": "python3"
  },
  "language_info": {
   "name": "python",
   "version": "3.9.15"
  },
  "orig_nbformat": 4,
  "vscode": {
   "interpreter": {
    "hash": "f198dec7773dabafca2bcef7e3b70f71282f48ba9752366b68993aed7b58b999"
   }
  }
 },
 "nbformat": 4,
 "nbformat_minor": 2
}
