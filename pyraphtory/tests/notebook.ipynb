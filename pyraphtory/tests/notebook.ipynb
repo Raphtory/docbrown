{
 "cells": [
  {
   "cell_type": "code",
   "execution_count": null,
   "metadata": {},
   "outputs": [],
   "source": []
  }
 ],
 "metadata": {
  "kernelspec": {
   "display_name": "pyraphtory",
   "language": "python",
   "name": "python3"
  },
  "language_info": {
   "name": "python",
   "version": "3.10.9"
  },
  "orig_nbformat": 4,
  "vscode": {
   "interpreter": {
    "hash": "ebb219fef0c1dfaed6d1a61bfc3d369cea18a30c3d0f18a7dc1bf3fba57cec23"
   }
  }
 },
 "nbformat": 4,
 "nbformat_minor": 2
}
