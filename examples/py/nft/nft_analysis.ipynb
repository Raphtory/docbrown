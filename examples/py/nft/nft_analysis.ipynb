{
 "cells": [
  {
   "cell_type": "markdown",
   "id": "f611d863",
   "metadata": {
    "pycharm": {
     "name": "#%% md\n"
    },
    "tags": []
   },
   "source": [
    "# Finding Cycles in NFT Transactions"
   ]
  },
  {
   "cell_type": "markdown",
   "id": "29aca51f",
   "metadata": {
    "pycharm": {
     "name": "#%% md\n"
    }
   },
   "source": [
    "## Overview"
   ]
  },
  {
   "cell_type": "markdown",
   "id": "fcf3feeb",
   "metadata": {
    "pycharm": {
     "name": "#%% md\n"
    }
   },
   "source": [
    "A Non-fungible Token (NFT) is a digital asset which cannot be copied, substituted, or subdivided, meaning it is wholly unique.\n",
    "\n",
    "![title](http://web.archive.org/web/20220328080727im_/https://blog.portion.io/content/images/2021/07/Kevin-McCoy-Quantum.gif)\n",
    "\n",
    "NFT’s are stored on blockchain systems, notably Ethereum, with the owner of an NFT being whomever has access to the wallet it is stored within.\n",
    "\n",
    "Since the first NFT, Quantum (shown above), many new NFT artworks have arisen including Cryptokitties and Cryptopunks. This culminated in a boom in 2021 which included the arrival of the Bored Ape Yacht Club, with NFTS reaching a global market valued of $15.7 Billion.\n",
    "\n",
    "In this example we will analyse an NFT dataset in order to find suspicious trading cycles.\n",
    "\n",
    "1. Using Raphtory to load the NFT data as a graph\n",
    "2. Execute a cycle detection algorithm\n",
    "3. Analyse the results to find suspicious cycles of NFTs\n",
    "\n",
    "The data we used is a cleaned and trimmed version from [1]\n",
    "\n",
    "\n",
    "[1] Nadini, M., Alessandretti, L., Di Giacinto, F. et al. Mapping the NFT revolution: market trends, trade networks, and visual features. Sci Rep 11, 20902 (2021). https://doi.org/10.1038/s41598-021-00053-8"
   ]
  },
  {
   "cell_type": "markdown",
   "id": "f46097e5",
   "metadata": {
    "pycharm": {
     "name": "#%% md\n"
    }
   },
   "source": [
    "## Loading data with Raphtory"
   ]
  },
  {
   "cell_type": "markdown",
   "id": "d2515fbf",
   "metadata": {
    "pycharm": {
     "name": "#%% md\n"
    }
   },
   "source": [
    "First we install some extra packages"
   ]
  },
  {
   "cell_type": "code",
   "execution_count": 1,
   "id": "7da4b290",
   "metadata": {
    "collapsed": false,
    "jupyter": {
     "outputs_hidden": false
    },
    "pycharm": {
     "name": "#%%\n"
    }
   },
   "outputs": [
    {
     "name": "stdout",
     "output_type": "stream",
     "text": [
      "Requirement already satisfied: pandas in /Users/haaroony/opt/anaconda3/envs/docbrown/lib/python3.10/site-packages (1.5.3)\n",
      "Requirement already satisfied: tqdm in /Users/haaroony/opt/anaconda3/envs/docbrown/lib/python3.10/site-packages (4.65.0)\n",
      "Requirement already satisfied: python-dateutil>=2.8.1 in /Users/haaroony/opt/anaconda3/envs/docbrown/lib/python3.10/site-packages (from pandas) (2.8.2)\n",
      "Requirement already satisfied: pytz>=2020.1 in /Users/haaroony/opt/anaconda3/envs/docbrown/lib/python3.10/site-packages (from pandas) (2022.7)\n",
      "Requirement already satisfied: numpy>=1.21.0 in /Users/haaroony/opt/anaconda3/envs/docbrown/lib/python3.10/site-packages (from pandas) (1.23.5)\n",
      "Requirement already satisfied: six>=1.5 in /Users/haaroony/opt/anaconda3/envs/docbrown/lib/python3.10/site-packages (from python-dateutil>=2.8.1->pandas) (1.16.0)\n",
      "Note: you may need to restart the kernel to use updated packages.\n"
     ]
    }
   ],
   "source": [
    "%pip install pandas tqdm"
   ]
  },
  {
   "cell_type": "markdown",
   "id": "65a9863b",
   "metadata": {
    "pycharm": {
     "name": "#%% md\n"
    }
   },
   "source": [
    "Now we import the following so we can use Raphtory"
   ]
  },
  {
   "cell_type": "code",
   "execution_count": 2,
   "id": "6ea73e22",
   "metadata": {
    "collapsed": false,
    "jupyter": {
     "outputs_hidden": false
    },
    "pycharm": {
     "name": "#%%\n"
    }
   },
   "outputs": [],
   "source": [
    "from raphtory import Graph\n",
    "from raphtory import algorithms\n",
    "\n",
    "from nft_helper import *\n",
    "\n",
    "import pandas as pd\n",
    "import os \n",
    "from tqdm import tqdm\n",
    "from calendar import timegm\n",
    "import datetime\n",
    "import time\n",
    "import re\n",
    "import os"
   ]
  },
  {
   "cell_type": "markdown",
   "id": "98504950",
   "metadata": {
    "pycharm": {
     "name": "#%% md\n"
    }
   },
   "source": [
    "Below are our data sources\n",
    "- `date_price` a dictionary containing the daily ETH-USD price, we we need to convert as some prices are missing\n",
    "- `filename` - this is the cleaned transaction data, which represents NFTs being bought by wallets \n",
    "- `at_time` - is the time we want to run our analysis, this is the last time in the dataset "
   ]
  },
  {
   "cell_type": "code",
   "execution_count": 3,
   "id": "99b0ca10",
   "metadata": {
    "collapsed": false,
    "jupyter": {
     "outputs_hidden": false
    },
    "pycharm": {
     "name": "#%%\n"
    }
   },
   "outputs": [],
   "source": [
    "if not os.path.isfile(\"ETH-USD.csv\"):\n",
    "    !curl -o ETH-USD.csv https://osf.io/download/mw3vh/ -L"
   ]
  },
  {
   "cell_type": "markdown",
   "id": "ac9c81ef",
   "metadata": {
    "pycharm": {
     "name": "#%% md\n"
    }
   },
   "source": [
    "#### Run this below if you want the full data, turn this into a code block"
   ]
  },
  {
   "cell_type": "markdown",
   "id": "6360fecf",
   "metadata": {},
   "source": [
    "if not os.path.isfile(\"Data_API_reduced.csv\"):\n",
    "    !curl -o Data_API_reduced.csv https://osf.io/download/kaumt/ -L"
   ]
  },
  {
   "cell_type": "markdown",
   "id": "c602d32b",
   "metadata": {},
   "source": [
    "Set up the variables"
   ]
  },
  {
   "cell_type": "code",
   "execution_count": 4,
   "id": "5fd288ef",
   "metadata": {
    "collapsed": false,
    "jupyter": {
     "outputs_hidden": false
    },
    "pycharm": {
     "name": "#%%\n"
    }
   },
   "outputs": [
    {
     "name": "stdout",
     "output_type": "stream",
     "text": [
      "Loading ETH-USD.csv\n",
      "Loading Data_API_reduced.csv\n"
     ]
    },
    {
     "name": "stderr",
     "output_type": "stream",
     "text": [
      "/var/folders/rm/nnz28pc96cv2xqzbwlwvwl2r0000gn/T/ipykernel_2591/2988999454.py:7: DtypeWarning: Columns (0,4,6) have mixed types. Specify dtype option on import or set low_memory=False.\n",
      "  data_df = pd.read_csv(filename)\n"
     ]
    }
   ],
   "source": [
    "eth_price_csv = 'ETH-USD.csv'\n",
    "print(\"Loading ETH-USD.csv\")\n",
    "date_price = setup_date_prices(eth_price_csv)\n",
    "\n",
    "print(\"Loading Data_API_reduced.csv\")\n",
    "filename = \"Data_API_reduced.csv\"\n",
    "data_df = pd.read_csv(filename)\n",
    "\n",
    "at_time = 1561661534"
   ]
  },
  {
   "cell_type": "markdown",
   "id": "559cc999",
   "metadata": {
    "pycharm": {
     "name": "#%% md\n"
    }
   },
   "source": [
    "For this example, we are going to create a bipartite graph. \n",
    "\n",
    "In our graph, we have wallets on the left, and NFTs on the right. \n",
    "\n",
    "Each edge represents that an NFT was purchased by a wallet. \n",
    "\n",
    "The `parse_graph` function will take each line, from the spout, and turn these into graph updates. \n",
    "\n",
    "\n",
    "![title](https://www.raphtory.com/images/nfts/buy_nft.png)\n"
   ]
  },
  {
   "cell_type": "code",
   "execution_count": 5,
   "id": "e62be1cd",
   "metadata": {
    "collapsed": false,
    "jupyter": {
     "outputs_hidden": false
    },
    "pycharm": {
     "name": "#%%\n"
    }
   },
   "outputs": [],
   "source": [
    "def load_or_create_graph(graph_name):\n",
    "    if os.path.exists(graph_name):\n",
    "        return Graph.load_from_file(graph_name)\n",
    "    else:\n",
    "        g = Graph()\n",
    "        for i, row in tqdm(data_df.iterrows()):\n",
    "            datetime_str = row['Datetime_updated_seconds']\n",
    "            timestamp_utc = time.strptime(datetime_str, \"%Y-%m-%d %H:%M:%S\")\n",
    "            timestamp = timegm(timestamp_utc)\n",
    "            # NFT details + nft node\n",
    "            v_props = {\n",
    "                'type': 'NFT', \n",
    "                'collection': row['Collection_cleaned'], \n",
    "                'category': row['Category']\n",
    "            }\n",
    "            g.add_vertex(0, row['ID_token'], v_props)\n",
    "            # Buyer details + buyer node\n",
    "            g.add_vertex(0, row['Buyer_address'], {'type': 'buyer'})\n",
    "            # Transaction details\n",
    "            # Creating a bipartite graph,\n",
    "            # add edge between buyer and nft\n",
    "            properties = {\n",
    "                \"price_usd\": row['Price_USD'], \n",
    "                \"timestamp\": timestamp, \n",
    "                \"transaction_hash\": row['Transaction_hash']\n",
    "            }\n",
    "            g.add_edge(timestamp, row['Buyer_address'], row['ID_token'], properties)\n",
    "        g.save_to_file(graph_name)\n",
    "        return g"
   ]
  },
  {
   "cell_type": "markdown",
   "id": "b932e8db",
   "metadata": {
    "pycharm": {
     "name": "#%% md\n"
    }
   },
   "source": [
    "Now we will start a raphtory instance and load our data"
   ]
  },
  {
   "cell_type": "code",
   "execution_count": 6,
   "id": "b5a1286c",
   "metadata": {
    "collapsed": false,
    "jupyter": {
     "outputs_hidden": false
    },
    "pycharm": {
     "name": "#%%\n"
    }
   },
   "outputs": [
    {
     "name": "stderr",
     "output_type": "stream",
     "text": [
      "359219it [01:24, 4257.68it/s]\n"
     ]
    }
   ],
   "source": [
    "g = load_or_create_graph(\"/tmp/nft_graph\")"
   ]
  },
  {
   "cell_type": "markdown",
   "id": "8c3ede0f",
   "metadata": {
    "pycharm": {
     "name": "#%% md\n"
    }
   },
   "source": [
    "## Executing a Cycle detection algorithm"
   ]
  },
  {
   "cell_type": "markdown",
   "id": "bc26b4c5",
   "metadata": {
    "pycharm": {
     "name": "#%% md\n"
    }
   },
   "source": [
    "Below is a visual representation of the cycle detection. \n",
    "\n",
    "This is when a NFT has been sold by a wallet, but eventually ends up being owned by it again. This can involve a chain of any number of other wallets, take any amount of time, and increase or decrease the price by any amount.\n",
    "\n",
    "Below we can see an example of such a cycle where Wallet A sold an NFT to Wallet B for $50$ on Monday, but its back in their position by Thursday, costing them $750$. They either have serious sellers remorse or, more likely, the same person owns all these wallets and is trying to pump up the price of the given NFT.\n",
    "\n",
    "Our algorithm:\n",
    "- Gets each NFT\n",
    "- For each time it was purchased, checks the list of purchases to see if a user re-bought the NFT at a later date, at a higher price\n",
    "\n",
    "This all happens within the `step` function. A `step` is executed once on each node.  \n",
    "\n",
    "The code has been optimised to O(n) complexity. "
   ]
  },
  {
   "cell_type": "markdown",
   "id": "3652af9a",
   "metadata": {
    "pycharm": {
     "name": "#%% md\n"
    }
   },
   "source": [
    "![title](https://www.raphtory.com/images/nfts/NFT_Cycle.png)"
   ]
  },
  {
   "cell_type": "code",
   "execution_count": 7,
   "id": "661e011c",
   "metadata": {
    "collapsed": false,
    "jupyter": {
     "outputs_hidden": false
    },
    "pycharm": {
     "name": "#%%\n"
    }
   },
   "outputs": [],
   "source": [
    "def money_cycle_algorithm(g):\n",
    "    all_cycles_dict = {}\n",
    "    for v in tqdm(g.vertices()):\n",
    "        if v['type'] != \"NFT\":\n",
    "            continue\n",
    "        all_cycles = []\n",
    "        all_purchases = sorted(list(v.in_edges().explode()), key = lambda e: e['timestamp'])\n",
    "        purchasers = list(map(lambda e:\n",
    "                          dict(price_usd=float(e[\"price_usd\"]),\n",
    "                               nft_id=e.dst().name(),\n",
    "                               tx_hash=e[\"transaction_hash\"],\n",
    "                               time=e['timestamp'],\n",
    "                               buyer=e.src().name()),\n",
    "                          all_purchases))\n",
    "        if len(purchasers) > 2:\n",
    "            buyers_seen = {}\n",
    "            for pos, item_sale in enumerate(purchasers):\n",
    "                buyer_id = item_sale['buyer']\n",
    "                if buyer_id not in buyers_seen:\n",
    "                    buyers_seen[buyer_id] = pos\n",
    "                else:\n",
    "                    prev_pos = buyers_seen[buyer_id]\n",
    "                    prev_price = purchasers[prev_pos]['price_usd']\n",
    "                    current_price = item_sale['price_usd']\n",
    "                    buyers_seen[buyer_id] = pos\n",
    "                    if prev_price < current_price:\n",
    "                        all_cycles.append(purchasers[prev_pos:pos + 1])\n",
    "        if len(all_cycles):\n",
    "            all_cycles_dict[v] = all_cycles\n",
    "    return all_cycles_dict\n",
    "\n",
    "def save_to_csv(data):\n",
    "    header = [\"nft_id\", \"nft_collection\", \"nft_category\", \"cycle_lengths\", \"cycle_info\"]\n",
    "    all_rows = []\n",
    "    for k,cycles_found in data.items():\n",
    "        nft_id = k.name()\n",
    "        nft_collection = k['collection']\n",
    "        nft_category = k['category']\n",
    "        cycle_lengths = [len(cycle) for cycle in cycles_found]\n",
    "        cycle_info = [dict(cycle={'sales': single_cycle},\n",
    "                                               profit_usd=float(single_cycle[len(single_cycle) - 1]['price_usd']) -\n",
    "                                                          float(single_cycle[0]['price_usd']),\n",
    "                                               buyer=str(single_cycle[0]['buyer'])) for single_cycle in cycles_found]\n",
    "        rows_found = list(map(lambda single_cycle:\n",
    "                      [\n",
    "                          nft_id,\n",
    "                          nft_collection,\n",
    "                          nft_category,\n",
    "                          len(single_cycle),\n",
    "                          dict(cycle={'sales': single_cycle},\n",
    "                               profit_usd=float(single_cycle[len(single_cycle) - 1]['price_usd']) -\n",
    "                                          float(single_cycle[0]['price_usd']),\n",
    "                               buyer=str(single_cycle[0]['buyer']))\n",
    "                      ], cycles_found))\n",
    "        all_rows.extend(rows_found)\n",
    "    df = pd.DataFrame(all_rows, columns=header)\n",
    "    df.to_csv('results.csv', index=False)\n",
    "    return df"
   ]
  },
  {
   "cell_type": "markdown",
   "id": "9e6141d4",
   "metadata": {
    "pycharm": {
     "name": "#%% md\n"
    }
   },
   "source": [
    "We run the algorithm as follows "
   ]
  },
  {
   "cell_type": "code",
   "execution_count": null,
   "id": "31e582af",
   "metadata": {
    "collapsed": false,
    "jupyter": {
     "outputs_hidden": false
    },
    "pycharm": {
     "name": "#%%\n"
    }
   },
   "outputs": [],
   "source": [
    "# Run algorithm \n",
    "results = money_cycle_algorithm(g)\n",
    "\n",
    "# Save results to a csv \n",
    "df = save_to_csv(results)"
   ]
  },
  {
   "cell_type": "markdown",
   "id": "6cd9a13d",
   "metadata": {
    "pycharm": {
     "name": "#%% md\n"
    }
   },
   "source": [
    "## Analysing the results\n",
    "\n",
    "First we import the tools we are using for analysis"
   ]
  },
  {
   "cell_type": "code",
   "execution_count": null,
   "id": "44a3eb7e",
   "metadata": {
    "collapsed": false,
    "jupyter": {
     "outputs_hidden": false
    },
    "pycharm": {
     "name": "#%%\n"
    }
   },
   "outputs": [],
   "source": [
    "import pandas as pd\n",
    "import json\n",
    "import seaborn as sns\n",
    "from scipy import stats\n",
    "import numpy as np\n",
    "import time\n",
    "import matplotlib.pyplot as plt\n",
    "plt.rcParams['font.size'] = '16'\n",
    "from nft_helper import *\n",
    "from collections import Counter"
   ]
  },
  {
   "cell_type": "markdown",
   "id": "f08313b6",
   "metadata": {
    "pycharm": {
     "name": "#%% md\n"
    }
   },
   "source": [
    "### Read data\n",
    "\n",
    "We will now read the data that Raphtory produced. \n",
    "\n",
    "Please check which path the data was saved too, and adjust the line below. "
   ]
  },
  {
   "cell_type": "code",
   "execution_count": null,
   "id": "e2c454ce",
   "metadata": {
    "pycharm": {
     "name": "#%%\n"
    }
   },
   "outputs": [],
   "source": [
    "!curl -o results.json https://osf.io/download/p3u64 -L"
   ]
  },
  {
   "cell_type": "markdown",
   "id": "3040b909",
   "metadata": {
    "pycharm": {
     "name": "#%% md\n"
    }
   },
   "source": [
    "#### If you ran with the full data you can uncomment the code block below"
   ]
  },
  {
   "cell_type": "code",
   "execution_count": null,
   "id": "fb97c2a3",
   "metadata": {
    "pycharm": {
     "name": "#%%\n"
    }
   },
   "outputs": [],
   "source": [
    "# import glob\n",
    "# for filename in glob.glob('/tmp/raphtory_nft_python/*/partition-0.json'):\n",
    "#     with open(filename,'r') as f:\n",
    "#         data = load_json(filename)"
   ]
  },
  {
   "cell_type": "code",
   "execution_count": null,
   "id": "cb31074e",
   "metadata": {
    "collapsed": false,
    "jupyter": {
     "outputs_hidden": false
    },
    "pycharm": {
     "name": "#%%\n"
    }
   },
   "outputs": [],
   "source": [
    "data = load_json(\"results.json\")\n",
    "\n",
    "new_data = []\n",
    "# filter any cycles that are less than 2 hops\n",
    "for d in data:\n",
    "    if d['row'][3] > 2:\n",
    "        new_data.append(d)\n",
    "data = new_data\n",
    "data_df = pd.DataFrame(data)"
   ]
  },
  {
   "cell_type": "code",
   "execution_count": null,
   "id": "82b25341",
   "metadata": {
    "collapsed": false,
    "jupyter": {
     "outputs_hidden": false
    },
    "pycharm": {
     "name": "#%%\n"
    }
   },
   "outputs": [],
   "source": [
    "data_df[\"profit\"]=data_df[\"row\"].apply(lambda x: x[4]['profit_usd'])\n",
    "data_df[\"min_ts\"] = data_df[\"row\"].apply(lambda x: min(map(lambda y: y[\"time\"],x[4]['cycle']['sales'])))\n",
    "data_df[\"max_ts\"] = data_df[\"row\"].apply(lambda x: max(map(lambda y: y[\"time\"],x[4]['cycle']['sales'])))\n",
    "data_df[\"length\"] = data_df[\"row\"].apply(lambda x: len(x[4]['cycle']['sales']))\n",
    "data_df[\"duration_days\"] = (data_df[\"max_ts\"] - data_df[\"min_ts\"])/86400\n",
    "display(data_df)"
   ]
  },
  {
   "cell_type": "markdown",
   "id": "4bdd8b26",
   "metadata": {
    "pycharm": {
     "name": "#%% md\n"
    }
   },
   "source": [
    "## Cycle length distributions\n",
    "\n",
    "Below is a simple CDF showing the distribution of the lengths of cycles. "
   ]
  },
  {
   "cell_type": "code",
   "execution_count": null,
   "id": "00cce174",
   "metadata": {
    "collapsed": false,
    "jupyter": {
     "outputs_hidden": false
    },
    "pycharm": {
     "name": "#%%\n"
    }
   },
   "outputs": [],
   "source": [
    "x,y = ccdf(data_df.duration_days)\n",
    "\n",
    "fig, ax = plt.subplots()\n",
    "ax.set_xscale(\"log\")\n",
    "ax.set_yscale(\"log\")\n",
    "ax.plot(x,y, marker=\"o\")\n",
    "ax.set_ylabel(\"CCDF\")\n",
    "ax.set_xlabel(\"Cycle duration (days)\")\n",
    "\n",
    "plt.show()"
   ]
  },
  {
   "cell_type": "code",
   "execution_count": null,
   "id": "1a7f869e",
   "metadata": {
    "collapsed": false,
    "jupyter": {
     "outputs_hidden": false
    },
    "pycharm": {
     "name": "#%%\n"
    }
   },
   "outputs": [],
   "source": [
    "x,y = ccdf(data_df.length)\n",
    "\n",
    "fig, ax = plt.subplots()\n",
    "ax.set_xscale(\"log\")\n",
    "ax.set_yscale(\"log\")\n",
    "ax.plot(x,y, marker=\"o\")\n",
    "ax.set_ylabel(\"CCDF\")\n",
    "ax.set_xlabel(\"Cycle length (hops)\")\n",
    "\n",
    "plt.show()"
   ]
  },
  {
   "cell_type": "markdown",
   "id": "37038cd3",
   "metadata": {
    "pycharm": {
     "name": "#%% md\n"
    }
   },
   "source": [
    "## How many traders took part in cycles?"
   ]
  },
  {
   "cell_type": "code",
   "execution_count": null,
   "id": "32bc058a",
   "metadata": {
    "collapsed": false,
    "jupyter": {
     "outputs_hidden": false
    },
    "pycharm": {
     "name": "#%%\n"
    }
   },
   "outputs": [],
   "source": [
    "traders_profit = {}\n",
    "for row in data:\n",
    "    trade = {\n",
    "        'profit_usd': row['row'][4]['profit_usd'],\n",
    "        'buyer':  row['row'][4]['buyer'],\n",
    "        'cycle_size': row['row'][3],\n",
    "        'nft_id': row['row'][0],\n",
    "        'cycle': row['row'][4]['cycle']['sales']\n",
    "    }\n",
    "    trader = trade['buyer']\n",
    "    profit = trade['profit_usd']\n",
    "    if trader not in traders_profit:\n",
    "        traders_profit[trader] = []\n",
    "    traders_profit[trader].append(profit)\n",
    "traders_avg = {}\n",
    "for trader, _profit in traders_profit.items():\n",
    "    avg = sum(_profit)/len(_profit)\n",
    "    traders_avg[trader] = {\n",
    "        'avg': avg, \n",
    "        'count': len(_profit),\n",
    "        'total_profit': sum(_profit)\n",
    "    }\n",
    "    \n",
    "traders_count_sorted = sorted(traders_avg, key=lambda x: traders_avg[x]['count'], reverse=True)\n",
    "\n",
    "for t in traders_count_sorted[:50]:\n",
    "    print(t)\n",
    "    print(traders_avg[t])\n",
    "    print()"
   ]
  },
  {
   "cell_type": "markdown",
   "id": "67750c96",
   "metadata": {
    "pycharm": {
     "name": "#%% md\n"
    }
   },
   "source": [
    "Above, we can see that 20 traders participated in over 528 cycles each. \n",
    "\n",
    "Lets write some code to inspect these NFT cycles in more depth. \n",
    "\n",
    "The `pretty_cycle` function takes a cycle and prints out each subsequent trade and the profit and time between trades.  "
   ]
  },
  {
   "cell_type": "code",
   "execution_count": null,
   "id": "23b84534",
   "metadata": {
    "collapsed": false,
    "jupyter": {
     "outputs_hidden": false
    },
    "pycharm": {
     "name": "#%%\n"
    }
   },
   "outputs": [],
   "source": [
    "def pretty_cycle(cycle):\n",
    "    as_string = '   '\n",
    "    prev_price = cycle[0]['price_usd']\n",
    "    prev_time = cycle[0]['time']\n",
    "    for item in cycle:\n",
    "        diff = item['price_usd']-prev_price\n",
    "        time_secs = item['time']-prev_time\n",
    "        time_mins = time_secs/60\n",
    "        time_hours = time_secs/60/60\n",
    "        time_days = time_secs/60/60/24 \n",
    "        prev_time = item['time']\n",
    "        time_str = '%.1fm/%.1fh/%.2fd' % (time_mins, time_hours, time_days)\n",
    "        as_string += 'T(d) '+time_str+', B: '+item['buyer'][:4]+'.. $'+str(item['price_usd'])+'('+str(diff)+') '+item['tx_hash']+'\\n->'\n",
    "    as_string = as_string[:-3]\n",
    "    print(as_string)"
   ]
  },
  {
   "cell_type": "markdown",
   "id": "69583bee",
   "metadata": {
    "pycharm": {
     "name": "#%% md\n"
    }
   },
   "source": [
    "# Lets take a look at the trader who did the most cycles"
   ]
  },
  {
   "cell_type": "code",
   "execution_count": null,
   "id": "329b95a4",
   "metadata": {
    "collapsed": false,
    "jupyter": {
     "outputs_hidden": false
    },
    "pycharm": {
     "name": "#%%\n"
    }
   },
   "outputs": [],
   "source": [
    "largest_trader_addr = traders_count_sorted[0] # '0x8acc1421ec98689461ff5777de8ad6648dc6d643'\n",
    "largest = []\n",
    "for trade in data:\n",
    "    # ignore any rari tokens, as they are fractionalised\n",
    "    #. ignore any short trades \n",
    "    if '_Rari' in trade['row'][0] or trade['row'][3] <= 2:\n",
    "        continue\n",
    "    if trade['row'][4]['buyer'] == largest_trader_addr:\n",
    "        largest.append(trade)"
   ]
  },
  {
   "cell_type": "markdown",
   "id": "87b8a693",
   "metadata": {
    "pycharm": {
     "name": "#%% md\n"
    }
   },
   "source": [
    "#### Which NFTs did they trade?"
   ]
  },
  {
   "cell_type": "code",
   "execution_count": null,
   "id": "34dbb989",
   "metadata": {
    "collapsed": false,
    "jupyter": {
     "outputs_hidden": false
    },
    "pycharm": {
     "name": "#%%\n"
    }
   },
   "outputs": [],
   "source": [
    "from collections import Counter\n",
    "most_common_nft_collection = []\n",
    "most_common_nft = []\n",
    "for trade in largest:\n",
    "    nft_collection =  trade['row'][0].split('_')\n",
    "    if len(nft_collection) > 2:\n",
    "        print(\"crap\")\n",
    "    most_common_nft.append(trade['row'][0])\n",
    "    most_common_nft_collection.append(nft_collection[1])\n",
    "most_common_nft_collection = set(most_common_nft_collection)\n",
    "most_common_nft_collection = Counter(most_common_nft_collection)\n",
    "most_common_nft = Counter(most_common_nft)\n",
    "most_common_nft_collection"
   ]
  },
  {
   "cell_type": "markdown",
   "id": "8e835007",
   "metadata": {
    "pycharm": {
     "name": "#%% md\n"
    }
   },
   "source": [
    "#### What happens when we look at their cycles in more detail?"
   ]
  },
  {
   "cell_type": "code",
   "execution_count": null,
   "id": "c6167f80",
   "metadata": {
    "collapsed": false,
    "jupyter": {
     "outputs_hidden": false
    },
    "pycharm": {
     "name": "#%%\n"
    }
   },
   "outputs": [],
   "source": [
    "pretty_cycle(largest[10]['row'][4]['cycle']['sales'])"
   ]
  },
  {
   "cell_type": "markdown",
   "id": "c0662f0a",
   "metadata": {
    "pycharm": {
     "name": "#%% md\n"
    }
   },
   "source": [
    "We have found something here, this trader trades each nft between wallets within a ~4 hour window??"
   ]
  },
  {
   "cell_type": "markdown",
   "id": "f39baade",
   "metadata": {
    "pycharm": {
     "name": "#%% md\n"
    }
   },
   "source": [
    "#### What was the time between each transaction?"
   ]
  },
  {
   "cell_type": "code",
   "execution_count": null,
   "id": "d3c9cf2a",
   "metadata": {
    "collapsed": false,
    "jupyter": {
     "outputs_hidden": false
    },
    "pycharm": {
     "name": "#%%\n"
    }
   },
   "outputs": [],
   "source": [
    "import math\n",
    "def time_finder(cycle):\n",
    "    prev_time = cycle[0]['time']\n",
    "    times = []\n",
    "    for sale in cycle:\n",
    "        time_secs = sale['time']-prev_time\n",
    "        time_hours = time_secs/60/60\n",
    "        prev_time = sale['time']\n",
    "        time_hours = round(time_hours, 1)\n",
    "        times.append(time_hours)\n",
    "    return times\n",
    "\n",
    "time_found = []\n",
    "for trade in largest:\n",
    "    time_found.extend(time_finder(trade['row'][4]['cycle']['sales']))\n",
    "time_found = Counter(time_found)\n",
    "print(\"total times : %i\" % sum(time_found.values()))\n",
    "between_39_41 = time_found[3.4]+time_found[3.5]+time_found[3.6] +time_found[3.7] +time_found[3.8] +time_found[3.9] +time_found[4.0] +time_found[4.1] +time_found[4.2]+time_found[4.3]+time_found[4.4]+time_found[4.5]+time_found[4.6]\n",
    "print(\"times between 3.4 and 4.6 : %i - %.2fp\" % (between_39_41, between_39_41/sum(time_found.values())*100))"
   ]
  },
  {
   "cell_type": "markdown",
   "id": "ed54a52d",
   "metadata": {
    "pycharm": {
     "name": "#%% md\n"
    }
   },
   "source": [
    "#### Who did they trade with?"
   ]
  },
  {
   "cell_type": "code",
   "execution_count": null,
   "id": "24992f42",
   "metadata": {
    "collapsed": false,
    "jupyter": {
     "outputs_hidden": false
    },
    "pycharm": {
     "name": "#%%\n"
    }
   },
   "outputs": [],
   "source": [
    "wallet_interactions = []\n",
    "for trade in largest:\n",
    "    for sale in trade['row'][4]['cycle']['sales']:\n",
    "        wallet_interactions.append(sale['buyer'])\n",
    "wallet_interactions = Counter(wallet_interactions)\n",
    "sorted(wallet_interactions.items(), key=lambda x: x[1], reverse=True), len(wallet_interactions)"
   ]
  },
  {
   "cell_type": "markdown",
   "id": "1d662249",
   "metadata": {
    "pycharm": {
     "name": "#%% md\n"
    }
   },
   "source": [
    "Interestingly they only traded their NFTs with 20 other wallets. "
   ]
  },
  {
   "cell_type": "code",
   "execution_count": null,
   "id": "d51e3093",
   "metadata": {
    "collapsed": false,
    "jupyter": {
     "outputs_hidden": false
    },
    "pycharm": {
     "name": "#%%\n"
    }
   },
   "outputs": [],
   "source": [
    "fellow_traders = list(wallet_interactions.keys())\n",
    "for t in fellow_traders:\n",
    "    print(t)\n",
    "    print(traders_avg[t])\n",
    "    print()"
   ]
  },
  {
   "cell_type": "markdown",
   "id": "0113f787",
   "metadata": {
    "pycharm": {
     "name": "#%% md\n"
    }
   },
   "source": [
    "All of these traders also participated in many cycles. "
   ]
  },
  {
   "cell_type": "markdown",
   "id": "0e2d2247",
   "metadata": {
    "pycharm": {
     "name": "#%% md\n"
    }
   },
   "source": [
    "#### What were the patterns of the fellow traders cycles?"
   ]
  },
  {
   "cell_type": "code",
   "execution_count": null,
   "id": "6889fa48",
   "metadata": {
    "collapsed": false,
    "jupyter": {
     "outputs_hidden": false
    },
    "pycharm": {
     "name": "#%%\n"
    }
   },
   "outputs": [],
   "source": [
    "import random\n",
    "\n",
    "print(len(fellow_traders))\n",
    "\n",
    "others_sibs = {}\n",
    "for sibling in fellow_traders:\n",
    "    others_sibs[sibling] = []\n",
    "    for trade in data:\n",
    "        if '_Rari' in trade['row'][0] or trade['row'][3] <= 2:\n",
    "            continue\n",
    "        if trade['row'][4]['buyer'] == sibling:\n",
    "            others_sibs[sibling].append(trade)\n",
    "    print(sibling)\n",
    "    rand = random.choice(range(0,len(others_sibs[sibling])))\n",
    "    pretty_cycle(others_sibs[sibling][rand]['row'][4]['cycle']['sales'])\n",
    "    print()"
   ]
  },
  {
   "cell_type": "markdown",
   "id": "2f2ce243",
   "metadata": {
    "pycharm": {
     "name": "#%% md\n"
    }
   },
   "source": [
    "All of these traders also follow the same, or a similar pattern.\n",
    "\n",
    "Trading with each other, waiting ~4 hours before trading again. "
   ]
  }
 ],
 "metadata": {
  "kernelspec": {
   "display_name": "Python 3 (ipykernel)",
   "language": "python",
   "name": "python3"
  },
  "language_info": {
   "codemirror_mode": {
    "name": "ipython",
    "version": 3
   },
   "file_extension": ".py",
   "mimetype": "text/x-python",
   "name": "python",
   "nbconvert_exporter": "python",
   "pygments_lexer": "ipython3",
   "version": "3.10.9"
  },
  "vscode": {
   "interpreter": {
    "hash": "a9a34730827747ae273d5a5e0748f342e2039a3997e32d9a086d01739bd0f055"
   }
  }
 },
 "nbformat": 4,
 "nbformat_minor": 5
}
