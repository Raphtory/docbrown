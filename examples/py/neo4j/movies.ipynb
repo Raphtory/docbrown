{
 "cells": [
  {
   "cell_type": "code",
   "execution_count": 1,
   "metadata": {},
   "outputs": [],
   "source": [
    "from raphtory import Graph\n",
    "from raphtory import graph_loader"
   ]
  },
  {
   "cell_type": "code",
   "execution_count": 16,
   "metadata": {},
   "outputs": [
    {
     "name": "stdout",
     "output_type": "stream",
     "text": [
      "Graph(number_of_edges=250, number_of_vertices=170, earliest_time=1929, latest_time=2012)\n",
      "Vertex(name=Tom Hanks, properties={_id : Tom Hanks, type : actor})\n",
      "Edge(source=Tom Hanks, target=You've Got Mail)\n",
      "Edge(source=Tom Hanks, target=Sleepless in Seattle)\n",
      "Edge(source=Tom Hanks, target=Joe Versus the Volcano)\n",
      "Edge(source=Tom Hanks, target=That Thing You Do)\n",
      "Edge(source=Tom Hanks, target=That Thing You Do)\n",
      "Edge(source=Tom Hanks, target=Cloud Atlas)\n",
      "Edge(source=Tom Hanks, target=The Da Vinci Code)\n",
      "Edge(source=Tom Hanks, target=The Green Mile)\n",
      "Edge(source=Tom Hanks, target=Apollo 13)\n",
      "Edge(source=Tom Hanks, target=Cast Away)\n",
      "Edge(source=Tom Hanks, target=Charlie Wilson's War)\n",
      "Edge(source=Tom Hanks, target=The Polar Express)\n",
      "Edge(source=Tom Hanks, target=A League of Their Own)\n"
     ]
    }
   ],
   "source": [
    "movie_graph = graph_loader.neo4j_movie_graph()\n",
    "print(movie_graph)\n",
    "tom=movie_graph.vertex(\"Tom Hanks\")\n",
    "print(tom)\n",
    "for edge in tom.out_edges():\n",
    "    print(edge)\n"
   ]
  }
 ],
 "metadata": {
  "kernelspec": {
   "display_name": "docbrown",
   "language": "python",
   "name": "python3"
  },
  "language_info": {
   "codemirror_mode": {
    "name": "ipython",
    "version": 3
   },
   "file_extension": ".py",
   "mimetype": "text/x-python",
   "name": "python",
   "nbconvert_exporter": "python",
   "pygments_lexer": "ipython3",
   "version": "3.10.9"
  },
  "orig_nbformat": 4
 },
 "nbformat": 4,
 "nbformat_minor": 2
}
