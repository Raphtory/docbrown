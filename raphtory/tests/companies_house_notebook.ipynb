{
 "cells": [
  {
   "attachments": {},
   "cell_type": "markdown",
   "metadata": {},
   "source": [
    "## Companies House Python Example"
   ]
  },
  {
   "cell_type": "code",
   "execution_count": null,
   "metadata": {},
   "outputs": [],
   "source": [
    "import pandas as pd\n",
    "import csv\n",
    "import matplotlib.pyplot as plt\n",
    "import seaborn as sns"
   ]
  },
  {
   "cell_type": "code",
   "execution_count": null,
   "metadata": {},
   "outputs": [],
   "source": [
    "from raphtory import Graph\n",
    "from raphtory import algorithms\n",
    "\n",
    "g = Graph()\n",
    "\n",
    "file = \"\"\n",
    "with open(file) as csv_file:\n",
    "    csv_reader = csv.reader(csv_file, delimiter = ',')\n",
    "    line_count = 0\n",
    "    for row in csv_reader:\n",
    "        psc1 = abs(hash(row[0]))\n",
    "        psc2 = abs(hash(row[1]))\n",
    "        company_number = abs(hash(row[2].replace(\"'\", \"\")))\n",
    "        g.add_edge(1, psc1, psc2, {\"type\": \"business_partners\"})\n",
    "        line_count += 1\n",
    "    print(f'Processed {line_count} lines.')"
   ]
  },
  {
   "cell_type": "code",
   "execution_count": null,
   "metadata": {},
   "outputs": [],
   "source": [
    "view = g.window(0, 2)\n",
    "\n",
    "# Find vertex with greatest degree in graph\n",
    "ids = []\n",
    "degrees = []\n",
    "for v in view.vertices():\n",
    "    ids.append(v.id)\n",
    "    degrees.append(v.degree())\n",
    "\n",
    "df = pd.DataFrame.from_dict({\"id\": ids,\"degree\": degrees})\n",
    "sns.set()\n",
    "sns.histplot(df.degree)\n",
    "big_boss = df.loc[df['degree'].idxmax()]\n",
    "print(big_boss)"
   ]
  },
  {
   "cell_type": "code",
   "execution_count": null,
   "metadata": {},
   "outputs": [],
   "source": [
    "# Graph and View have several functions to check information about a vertex\n",
    "# Change value in brackets to id outputted in big_boss\n",
    "print(g.has_vertex())\n",
    "print(view.vertex().in_degree())\n",
    "print(view.vertex().out_degree())\n",
    "print(view.vertex().degree())\n",
    "\n",
    "# Algorithms can be performed on a vertex to find e.g. triangle count\n",
    "# Change value in brackets after \"(view, )\" to id outputted in big_boss\n",
    "triangles  = algorithms.local_triangle_count(view, ) # How many triangles is vertex involved in\n",
    "print(triangles)"
   ]
  }
 ],
 "metadata": {
  "kernelspec": {
   "display_name": "docbrown",
   "language": "python",
   "name": "python3"
  },
  "language_info": {
   "codemirror_mode": {
    "name": "ipython",
    "version": 3
   },
   "file_extension": ".py",
   "mimetype": "text/x-python",
   "name": "python",
   "nbconvert_exporter": "python",
   "pygments_lexer": "ipython3",
   "version": "3.10.9"
  },
  "orig_nbformat": 4
 },
 "nbformat": 4,
 "nbformat_minor": 2
}
