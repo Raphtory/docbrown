{
 "cells": [
  {
   "cell_type": "code",
   "execution_count": null,
   "metadata": {},
   "outputs": [],
   "source": [
    "from raphtory import Graph\n",
    "from raphtory import algorithms\n",
    "from raphtory import Perspective\n",
    "from raphtory import graphplot\n",
    "\n",
    "\n",
    "g = Graph(4)\n",
    "g.add_edge(1, 1, 2, {})\n",
    "g.add_edge(1, 2, 3, {})\n",
    "g.add_edge(1, 3, 4, {})\n",
    "\n",
    "view = g.at(1)\n",
    "v = view.vertex(2)\n",
    "graphplot.draw(g, 4, with_labels=True)"
   ]
  },
  {
   "cell_type": "code",
   "execution_count": null,
   "metadata": {},
   "outputs": [],
   "source": []
  }
 ],
 "metadata": {
  "kernelspec": {
   "display_name": "Python 3 (ipykernel)",
   "language": "python",
   "name": "python3"
  },
  "language_info": {
   "codemirror_mode": {
    "name": "ipython",
    "version": 3
   },
   "file_extension": ".py",
   "mimetype": "text/x-python",
   "name": "python",
   "nbconvert_exporter": "python",
   "pygments_lexer": "ipython3",
   "version": "3.10.9"
  }
 },
 "nbformat": 4,
 "nbformat_minor": 4
}
