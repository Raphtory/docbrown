{
 "cells": [
  {
   "cell_type": "code",
   "execution_count": 1,
   "metadata": {},
   "outputs": [],
   "source": [
    "import pandas as pd\n",
    "import matplotlib.pyplot as plt\n",
    "import seaborn as sns"
   ]
  },
  {
   "attachments": {},
   "cell_type": "markdown",
   "metadata": {},
   "source": [
    "# Basic functionality on a graph\n",
    "\n",
    "After importing a Raphtory graph we can create a blank one to work with\n"
   ]
  },
  {
   "cell_type": "code",
   "execution_count": 5,
   "metadata": {},
   "outputs": [
    {
     "name": "stdout",
     "output_type": "stream",
     "text": [
      "Help on Graph in module builtins object:\n",
      "\n",
      "class Graph(object)\n",
      " |  Methods defined here:\n",
      " |  \n",
      " |  add_edge(self, /, timestamp, src, dst, properties=Ellipsis)\n",
      " |  \n",
      " |  add_vertex(self, /, timestamp, id, properties=Ellipsis)\n",
      " |  \n",
      " |  at(self, /, end)\n",
      " |  \n",
      " |  earliest_time(self, /)\n",
      " |  \n",
      " |  has_edge(self, /, src, dst)\n",
      " |  \n",
      " |  has_vertex(self, /, v)\n",
      " |  \n",
      " |  latest(self, /)\n",
      " |  \n",
      " |  latest_time(self, /)\n",
      " |  \n",
      " |  num_edges(self, /)\n",
      " |  \n",
      " |  num_vertices(self, /)\n",
      " |  \n",
      " |  save_to_file(self, /, path)\n",
      " |  \n",
      " |  through(self, /, perspectives)\n",
      " |  \n",
      " |  window(self, /, t_start, t_end)\n",
      " |  \n",
      " |  ----------------------------------------------------------------------\n",
      " |  Static methods defined here:\n",
      " |  \n",
      " |  __new__(*args, **kwargs) from builtins.type\n",
      " |      Create and return a new object.  See help(type) for accurate signature.\n",
      " |  \n",
      " |  load_from_file(path)\n",
      "\n"
     ]
    }
   ],
   "source": [
    "from raphtory import Graph\n",
    "g = Graph() \n",
    "help(g)"
   ]
  },
  {
   "attachments": {},
   "cell_type": "markdown",
   "metadata": {},
   "source": [
    "Once we have a new graph we can add vertices and edges to it via `add_vertex()` and `add_edge()`. For these:\n",
    "* All additions into the graph must happen at a specific time - this means updates are also additions\n",
    "* Additions can be completed out of order, making it very easy to merge datasets together\n",
    "* The ids of vertices and the source/destination of an edge can be either strings or integers\n",
    "* If you add an edge between vertices which do no exist in the graph yet, these will be automatically created\n",
    "* Properties can be added onto vertices and edges - this is a dict of any value, but the keys must be strings\n",
    "\n",
    "We can then check the state of the graph:\n",
    "* To see if a vertex or edge exists you can use `has_vertex()` and `has_edge()`\n",
    "* To get the earliest and latest times at which updates have been applied to the graph you can use `earliest_time()` and `latest_time()` - if not updates have been applied these will return `None`"
   ]
  },
  {
   "cell_type": "code",
   "execution_count": 6,
   "metadata": {},
   "outputs": [
    {
     "name": "stdout",
     "output_type": "stream",
     "text": [
      "True\n",
      "True\n"
     ]
    }
   ],
   "source": [
    "# Basic Addition with integer IDs\n",
    "g.add_vertex(timestamp=1,id=10)\n",
    "g.add_edge(timestamp=2,src=1,dst=2)\n",
    "\n",
    "print(g.has_vertex(10))\n",
    "print(g.has_edge(1,2))\n",
    "\n",
    "\n",
    "g.add_vertex(timestamp=5,id=\"Ben\")\n",
    "g.add_edge(timestamp=6,src=\"Ben\",dst=\"Haaroon\")\n",
    "g.add_edge(timestamp=8,src=\"Hamza\",dst=\"Ben\")\n",
    "\n",
    "g.add_edge(timestamp=7,src=\"Haaroon\",dst=\"Hamza\",properties= {\"property1\": 1, \"property2\": 9.8, \"property3\": \"test\"})\n",
    "\n",
    "g.add_vertex(timestamp=5,id=\"Ben\")\n",
    "\n",
    "\n",
    "g.add_vertex(timestamp=5,id=\"Hamza\",properties= {\"property1\": 5, \"property2\": 12.5, \"property3\": \"test2\"})\n",
    "\n",
    "\n"
   ]
  },
  {
   "cell_type": "code",
   "execution_count": null,
   "metadata": {},
   "outputs": [
    {
     "data": {
      "text/plain": [
       "<Axes: xlabel='degree', ylabel='Count'>"
      ]
     },
     "execution_count": 3,
     "metadata": {},
     "output_type": "execute_result"
    },
    {
     "data": {
      "image/png": "[encoded data removed]",
      "text/plain": [
       "<Figure size 640x480 with 1 Axes>"
      ]
     },
     "metadata": {},
     "output_type": "display_data"
    }
   ],
   "source": [
    "from raphtory import graph_gen\n",
    "\n",
    "g = Graph(4)\n",
    "graph_gen.ba_preferential_attachment(g,vertices_to_add=1000,edges_per_step=10)\n",
    "view = g.window(0,1000)\n",
    "\n",
    "ids = []\n",
    "degrees = []\n",
    "for v in view.vertices():\n",
    "    ids.append(v.id)\n",
    "    degrees.append(v.degree())\n",
    "\n",
    "df = pd.DataFrame.from_dict({\"id\":ids,\"degree\": degrees})\n",
    "\n",
    "sns.set()\n",
    "sns.histplot(df.degree)"
   ]
  },
  {
   "cell_type": "code",
   "execution_count": null,
   "metadata": {},
   "outputs": [
    {
     "name": "stdout",
     "output_type": "stream",
     "text": [
      "1000\n",
      "32674\n",
      "33\n",
      "32674\n"
     ]
    }
   ],
   "source": [
    "from raphtory import graph_loader\n",
    "\n",
    "g = graph_loader.lotr_graph()\n",
    "view = g.window(1000,100000)\n",
    "\n",
    "print(view.earliest_time())\n",
    "print(view.latest_time())\n",
    "print(g.earliest_time())\n",
    "print(g.latest_time())"
   ]
  },
  {
   "cell_type": "code",
   "execution_count": null,
   "metadata": {},
   "outputs": [
    {
     "name": "stdout",
     "output_type": "stream",
     "text": [
      "13840129630991083248\n",
      "20 23\n",
      "13840129630991083248\n",
      "44 21\n",
      "13840129630991083248\n",
      "20 9\n",
      "13840129630991083248\n",
      "16 9\n",
      "12772980705568717046\n",
      "17 11\n",
      "12772980705568717046\n",
      "45 21\n",
      "13840129630991083248\n",
      "44 29\n",
      "13840129630991083248\n",
      "84 37\n",
      "13840129630991083248\n",
      "68 26\n",
      "13840129630991083248\n",
      "41 19\n",
      "13840129630991083248\n",
      "38 19\n",
      "13840129630991083248\n",
      "49 19\n",
      "13840129630991083248\n",
      "38 22\n",
      "13840129630991083248\n",
      "28 18\n",
      "13840129630991083248\n",
      "5 7\n",
      "13840129630991083248\n",
      "19 14\n",
      "13840129630991083248\n",
      "18 13\n",
      "13840129630991083248\n",
      "24 13\n",
      "13840129630991083248\n",
      "20 14\n",
      "13840129630991083248\n",
      "17 14\n",
      "12772980705568717046\n",
      "5 5\n",
      "13840129630991083248\n",
      "15 11\n",
      "12772980705568717046\n",
      "30 14\n",
      "13840129630991083248\n",
      "22 10\n",
      "12772980705568717046\n",
      "13 10\n",
      "13840129630991083248\n",
      "48 26\n",
      "13840129630991083248\n",
      "86 33\n",
      "13840129630991083248\n",
      "48 30\n",
      "13840129630991083248\n",
      "134 39\n",
      "12772980705568717046\n",
      "22 16\n",
      "13840129630991083248\n",
      "78 28\n",
      "13840129630991083248\n",
      "214 49\n",
      "13840129630991083248\n",
      "38 17\n"
     ]
    }
   ],
   "source": [
    "from raphtory import Graph\n",
    "from raphtory import algorithms\n",
    "from raphtory import Perspective\n",
    "\n",
    "g = graph_loader.lotr_graph()\n",
    "views = g.through(Perspective.rolling(1000))\n",
    "\n",
    "for view in views:\n",
    "    print(next(view.edges()).src)\n",
    "    print(view.num_edges(),view.num_vertices())\n"
   ]
  },
  {
   "cell_type": "code",
   "execution_count": null,
   "metadata": {},
   "outputs": [],
   "source": []
  }
 ],
 "metadata": {
  "kernelspec": {
   "display_name": "docbrown",
   "language": "python",
   "name": "python3"
  },
  "language_info": {
   "codemirror_mode": {
    "name": "ipython",
    "version": 3
   },
   "file_extension": ".py",
   "mimetype": "text/x-python",
   "name": "python",
   "nbconvert_exporter": "python",
   "pygments_lexer": "ipython3",
   "version": "3.10.9"
  }
 },
 "nbformat": 4,
 "nbformat_minor": 4
}
