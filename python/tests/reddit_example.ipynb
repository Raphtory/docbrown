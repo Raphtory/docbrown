{
 "cells": [
  {
   "cell_type": "code",
   "execution_count": 1,
   "metadata": {
    "collapsed": false,
    "pycharm": {
     "name": "#%%\n"
    }
   },
   "outputs": [],
   "source": [
    "from raphtory import graph_loader\n",
    "import pandas as pd\n",
    "import matplotlib.pyplot as plt\n",
    "import seaborn as sns\n",
    "from raphtory import Graph\n",
    "g = graph_loader.reddit_hyperlink_graph()"
   ]
  },
  {
   "cell_type": "code",
   "execution_count": 3,
   "metadata": {},
   "outputs": [
    {
     "name": "stdout",
     "output_type": "stream",
     "text": [
      "['post_label', 'post_id', 'word_count', 'long_words', 'sentences', 'readability', 'positive_sentiment', 'negative_sentiment', 'compound_sentiment', 'test static property']\n",
      "True\n",
      "1.0\n",
      "True\n",
      "blah blah blah\n",
      "{'readability': 33.496, 'post_label': 1, 'positive_sentiment': 33.496, 'negative_sentiment': 33.496, 'word_count': 10.0, 'post_id': '67km2ps', 'test static property': 'blah blah blah', 'sentences': 1.0, 'long_words': 3.0, 'compound_sentiment': 33.496}\n",
      "[(1416135814, 13.0), (1433788001, 1.0), (1450106309, 13.0), (1457201357, 2.0), (1484725805, 11.0), (1493140623, 1.0)]\n",
      "{'word_count': [(1416135814, 270.0), (1433788001, 29.0), (1450106309, 309.0), (1457201357, 41.0), (1484725805, 240.0), (1493140623, 10.0)], 'compound_sentiment': [(1416135814, 16.7610598291), (1433788001, 36.2720689655), (1450106309, 19.5377221807), (1457201357, 26.3851219512), (1484725805, 17.0914659091), (1493140623, 33.496)], 'post_label': [(1416135814, 1), (1433788001, 1), (1450106309, 1), (1457201357, 1), (1484725805, -1), (1493140623, 1)], 'positive_sentiment': [(1416135814, 16.7610598291), (1433788001, 36.2720689655), (1450106309, 19.5377221807), (1457201357, 26.3851219512), (1484725805, 17.0914659091), (1493140623, 33.496)], 'sentences': [(1416135814, 13.0), (1433788001, 1.0), (1450106309, 13.0), (1457201357, 2.0), (1484725805, 11.0), (1493140623, 1.0)], 'long_words': [(1416135814, 42.0), (1433788001, 8.0), (1450106309, 84.0), (1457201357, 8.0), (1484725805, 43.0), (1493140623, 3.0)], 'post_id': [(1416135814, '2mhi30s'), (1433788001, '393jw2s'), (1450106309, '3wumxss'), (1457201357, '495dlds'), (1484725805, '5oq3b0'), (1493140623, '67km2ps')], 'readability': [(1416135814, 16.7610598291), (1433788001, 36.2720689655), (1450106309, 19.5377221807), (1457201357, 26.3851219512), (1484725805, 17.0914659091), (1493140623, 33.496)], 'negative_sentiment': [(1416135814, 16.7610598291), (1433788001, 36.2720689655), (1450106309, 19.5377221807), (1457201357, 26.3851219512), (1484725805, 17.0914659091), (1493140623, 33.496)]}\n"
     ]
    }
   ],
   "source": [
    "g.add_edge_properties(\"conspiracy\",\"documentaries\",{\"test static property\":\"blah blah blah\"})\n",
    "view = g\n",
    "edge = view.edge(\"conspiracy\",\"documentaries\")\n",
    "print(edge.property_names())\n",
    "print(edge.has_property(\"sentences\"))\n",
    "print(edge.property(\"sentences\"))\n",
    "print(edge.has_static_property(\"test static property\"))\n",
    "print(edge.static_property(\"test static property\"))\n",
    "print(edge.properties())\n",
    "print(edge.property_history(\"sentences\"))\n",
    "print(edge.property_histories())\n"
   ]
  },
  {
   "cell_type": "code",
   "execution_count": 28,
   "metadata": {},
   "outputs": [
    {
     "data": {
      "text/plain": [
       "WindowedVertexIterable(Vertex(VertexName(0), Properties({})), Vertex(VertexName(0), Properties({})), Vertex(VertexName(0), Properties({})), Vertex(VertexName(0), Properties({})), Vertex(VertexName(0), Properties({})), Vertex(VertexName(0), Properties({})), Vertex(VertexName(0), Properties({})), Vertex(VertexName(0), Properties({})), Vertex(VertexName(0), Properties({})), Vertex(VertexName(0), Properties({})) ... )"
      ]
     },
     "execution_count": 28,
     "metadata": {},
     "output_type": "execute_result"
    }
   ],
   "source": [
    "from raphtory import Graph\n",
    "g = Graph()\n",
    "g.add_edge(1, 0, 1,{\"weight\":-1})\n",
    "g.add_edge(1, 0, 2,{\"weight\":-1})\n",
    "g.add_edge(1, 0, 3,{\"weight\":-1})\n",
    "g.add_edge(1, 0, 4,{\"weight\":-1})\n",
    "\n",
    "\n",
    "g.vertex(0).neighbours().neighbours().neighbours().neighbours().neighbours().neighbours()\n",
    "\n",
    "# for e in g.vertex(1).in_edges():\n",
    "#     if(e[\"weight\"] == -1 ):\n",
    "#         for e2 in e.src().out_edges():\n",
    "#             if (e2[\"weight\"] == -1):\n",
    "#                 print(e2.dst())"
   ]
  },
  {
   "cell_type": "code",
   "execution_count": 27,
   "metadata": {},
   "outputs": [
    {
     "data": {
      "text/plain": [
       "2"
      ]
     },
     "execution_count": 27,
     "metadata": {},
     "output_type": "execute_result"
    }
   ],
   "source": [
    "from raphtory import Graph\n",
    "\n",
    "g = Graph()\n",
    "\n",
    "g.add_vertex(1,\"ben\",{\"prop1\": 1})\n",
    "g.add_edge(1,\"ben\",\"haaroon\")\n",
    "g.add_vertex(2,\"ben\",{\"prop1\": 2})\n",
    "g.add_edge(2,\"ben\",\"hamza\")\n",
    "g.add_edge(2,\"ben\",\"richard\")\n",
    "\n",
    "v1 = g.at(1).vertex(\"ben\")\n",
    "v2 = g.at(2).vertex(\"ben\")\n",
    "\n",
    "v2.degree()-v1.degree()"
   ]
  },
  {
   "cell_type": "code",
   "execution_count": null,
   "metadata": {},
   "outputs": [],
   "source": []
  }
 ],
 "metadata": {
  "kernelspec": {
   "display_name": "Python 3",
   "language": "python",
   "name": "python3"
  },
  "language_info": {
   "codemirror_mode": {
    "name": "ipython",
    "version": 3
   },
   "file_extension": ".py",
   "mimetype": "text/x-python",
   "name": "python",
   "nbconvert_exporter": "python",
   "pygments_lexer": "ipython3",
   "version": "3.10.9"
  }
 },
 "nbformat": 4,
 "nbformat_minor": 0
}
