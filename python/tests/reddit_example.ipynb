{
 "cells": [
  {
   "cell_type": "code",
   "execution_count": 2,
   "metadata": {
    "collapsed": false,
    "pycharm": {
     "name": "#%%\n"
    }
   },
   "outputs": [],
   "source": [
    "from raphtory import graph_loader\n",
    "import pandas as pd\n",
    "import matplotlib.pyplot as plt\n",
    "import seaborn as sns\n",
    "from raphtory import Graph\n",
    "g = graph_loader.reddit_hyperlink_graph()"
   ]
  },
  {
   "cell_type": "code",
   "execution_count": 3,
   "metadata": {},
   "outputs": [
    {
     "name": "stdout",
     "output_type": "stream",
     "text": [
      "['sentences', 'readability', 'long_words', 'negative_sentiment', 'positive_sentiment', 'word_count', 'post_id', 'compound_sentiment', 'post_label', 'test static property']\n",
      "True\n",
      "1.0\n",
      "{'readability': 33.496, 'compound_sentiment': 33.496, 'positive_sentiment': 33.496, 'long_words': 3.0, 'word_count': 10.0, 'post_id': '67km2ps', 'negative_sentiment': 33.496, 'post_label': 1, 'test static property': 'blah blah blah', 'sentences': 1.0}\n",
      "[(1416135814, 13.0), (1433788001, 1.0), (1450106309, 13.0), (1457201357, 2.0), (1484725805, 11.0), (1493140623, 1.0)]\n",
      "{'positive_sentiment': [(1416135814, 16.7610598291), (1433788001, 36.2720689655), (1450106309, 19.5377221807), (1457201357, 26.3851219512), (1484725805, 17.0914659091), (1493140623, 33.496)], 'sentences': [(1416135814, 13.0), (1433788001, 1.0), (1450106309, 13.0), (1457201357, 2.0), (1484725805, 11.0), (1493140623, 1.0)], 'compound_sentiment': [(1416135814, 16.7610598291), (1433788001, 36.2720689655), (1450106309, 19.5377221807), (1457201357, 26.3851219512), (1484725805, 17.0914659091), (1493140623, 33.496)], 'long_words': [(1416135814, 42.0), (1433788001, 8.0), (1450106309, 84.0), (1457201357, 8.0), (1484725805, 43.0), (1493140623, 3.0)], 'post_id': [(1416135814, '2mhi30s'), (1433788001, '393jw2s'), (1450106309, '3wumxss'), (1457201357, '495dlds'), (1484725805, '5oq3b0'), (1493140623, '67km2ps')], 'readability': [(1416135814, 16.7610598291), (1433788001, 36.2720689655), (1450106309, 19.5377221807), (1457201357, 26.3851219512), (1484725805, 17.0914659091), (1493140623, 33.496)], 'word_count': [(1416135814, 270.0), (1433788001, 29.0), (1450106309, 309.0), (1457201357, 41.0), (1484725805, 240.0), (1493140623, 10.0)], 'negative_sentiment': [(1416135814, 16.7610598291), (1433788001, 36.2720689655), (1450106309, 19.5377221807), (1457201357, 26.3851219512), (1484725805, 17.0914659091), (1493140623, 33.496)], 'post_label': [(1416135814, 1), (1433788001, 1), (1450106309, 1), (1457201357, 1), (1484725805, -1), (1493140623, 1)]}\n"
     ]
    }
   ],
   "source": [
    "g.add_edge_properties(\"conspiracy\",\"documentaries\",{\"test static property\":\"blah blah blah\"})\n",
    "view = g.latest()\n",
    "edge = view.edge(\"conspiracy\",\"documentaries\")\n",
    "print(edge.property_names())\n",
    "print(edge.has_property(\"sentences\"))\n",
    "print(edge.property(\"sentences\"))\n",
    "print(edge.properties())\n",
    "print(edge.property_history(\"sentences\"))\n",
    "print(edge.property_histories())"
   ]
  },
  {
   "cell_type": "code",
   "execution_count": null,
   "metadata": {},
   "outputs": [],
   "source": []
  }
 ],
 "metadata": {
  "kernelspec": {
   "display_name": "Python 3",
   "language": "python",
   "name": "python3"
  },
  "language_info": {
   "codemirror_mode": {
    "name": "ipython",
    "version": 3
   },
   "file_extension": ".py",
   "mimetype": "text/x-python",
   "name": "python",
   "nbconvert_exporter": "python",
   "pygments_lexer": "ipython3",
   "version": "3.10.9"
  }
 },
 "nbformat": 4,
 "nbformat_minor": 0
}
